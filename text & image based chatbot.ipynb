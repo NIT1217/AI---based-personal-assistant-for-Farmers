{
  "nbformat": 4,
  "nbformat_minor": 0,
  "metadata": {
    "colab": {
      "provenance": []
    },
    "kernelspec": {
      "name": "python3",
      "display_name": "Python 3"
    },
    "language_info": {
      "name": "python"
    }
  },
  "cells": [
    {
      "cell_type": "markdown",
      "source": [
        "#MULTI- LINGUAL CHATBOT FOR TEXT DATA ANALYSIS"
      ],
      "metadata": {
        "id": "EYgnG8KtaK4y"
      }
    },
    {
      "cell_type": "code",
      "source": [
        "!pip install -U google-generativeai"
      ],
      "metadata": {
        "id": "fQ9vHpfr-7Yp",
        "colab": {
          "base_uri": "https://localhost:8080/"
        },
        "outputId": "7da384a9-3e1c-46a2-cce3-67919b88cfd8"
      },
      "execution_count": 85,
      "outputs": [
        {
          "output_type": "stream",
          "name": "stdout",
          "text": [
            "Requirement already satisfied: google-generativeai in /usr/local/lib/python3.12/dist-packages (0.8.5)\n",
            "Requirement already satisfied: google-ai-generativelanguage==0.6.15 in /usr/local/lib/python3.12/dist-packages (from google-generativeai) (0.6.15)\n",
            "Requirement already satisfied: google-api-core in /usr/local/lib/python3.12/dist-packages (from google-generativeai) (2.25.1)\n",
            "Requirement already satisfied: google-api-python-client in /usr/local/lib/python3.12/dist-packages (from google-generativeai) (2.179.0)\n",
            "Requirement already satisfied: google-auth>=2.15.0 in /usr/local/lib/python3.12/dist-packages (from google-generativeai) (2.38.0)\n",
            "Requirement already satisfied: protobuf in /usr/local/lib/python3.12/dist-packages (from google-generativeai) (5.29.5)\n",
            "Requirement already satisfied: pydantic in /usr/local/lib/python3.12/dist-packages (from google-generativeai) (2.11.7)\n",
            "Requirement already satisfied: tqdm in /usr/local/lib/python3.12/dist-packages (from google-generativeai) (4.67.1)\n",
            "Requirement already satisfied: typing-extensions in /usr/local/lib/python3.12/dist-packages (from google-generativeai) (4.15.0)\n",
            "Requirement already satisfied: proto-plus<2.0.0dev,>=1.22.3 in /usr/local/lib/python3.12/dist-packages (from google-ai-generativelanguage==0.6.15->google-generativeai) (1.26.1)\n",
            "Requirement already satisfied: googleapis-common-protos<2.0.0,>=1.56.2 in /usr/local/lib/python3.12/dist-packages (from google-api-core->google-generativeai) (1.70.0)\n",
            "Requirement already satisfied: requests<3.0.0,>=2.18.0 in /usr/local/lib/python3.12/dist-packages (from google-api-core->google-generativeai) (2.32.4)\n",
            "Requirement already satisfied: cachetools<6.0,>=2.0.0 in /usr/local/lib/python3.12/dist-packages (from google-auth>=2.15.0->google-generativeai) (5.5.2)\n",
            "Requirement already satisfied: pyasn1-modules>=0.2.1 in /usr/local/lib/python3.12/dist-packages (from google-auth>=2.15.0->google-generativeai) (0.4.2)\n",
            "Requirement already satisfied: rsa<5,>=3.1.4 in /usr/local/lib/python3.12/dist-packages (from google-auth>=2.15.0->google-generativeai) (4.9.1)\n",
            "Requirement already satisfied: httplib2<1.0.0,>=0.19.0 in /usr/local/lib/python3.12/dist-packages (from google-api-python-client->google-generativeai) (0.22.0)\n",
            "Requirement already satisfied: google-auth-httplib2<1.0.0,>=0.2.0 in /usr/local/lib/python3.12/dist-packages (from google-api-python-client->google-generativeai) (0.2.0)\n",
            "Requirement already satisfied: uritemplate<5,>=3.0.1 in /usr/local/lib/python3.12/dist-packages (from google-api-python-client->google-generativeai) (4.2.0)\n",
            "Requirement already satisfied: annotated-types>=0.6.0 in /usr/local/lib/python3.12/dist-packages (from pydantic->google-generativeai) (0.7.0)\n",
            "Requirement already satisfied: pydantic-core==2.33.2 in /usr/local/lib/python3.12/dist-packages (from pydantic->google-generativeai) (2.33.2)\n",
            "Requirement already satisfied: typing-inspection>=0.4.0 in /usr/local/lib/python3.12/dist-packages (from pydantic->google-generativeai) (0.4.1)\n",
            "Requirement already satisfied: grpcio<2.0.0,>=1.33.2 in /usr/local/lib/python3.12/dist-packages (from google-api-core[grpc]!=2.0.*,!=2.1.*,!=2.10.*,!=2.2.*,!=2.3.*,!=2.4.*,!=2.5.*,!=2.6.*,!=2.7.*,!=2.8.*,!=2.9.*,<3.0.0dev,>=1.34.1->google-ai-generativelanguage==0.6.15->google-generativeai) (1.74.0)\n",
            "Requirement already satisfied: grpcio-status<2.0.0,>=1.33.2 in /usr/local/lib/python3.12/dist-packages (from google-api-core[grpc]!=2.0.*,!=2.1.*,!=2.10.*,!=2.2.*,!=2.3.*,!=2.4.*,!=2.5.*,!=2.6.*,!=2.7.*,!=2.8.*,!=2.9.*,<3.0.0dev,>=1.34.1->google-ai-generativelanguage==0.6.15->google-generativeai) (1.71.2)\n",
            "Requirement already satisfied: pyparsing!=3.0.0,!=3.0.1,!=3.0.2,!=3.0.3,<4,>=2.4.2 in /usr/local/lib/python3.12/dist-packages (from httplib2<1.0.0,>=0.19.0->google-api-python-client->google-generativeai) (3.2.3)\n",
            "Requirement already satisfied: pyasn1<0.7.0,>=0.6.1 in /usr/local/lib/python3.12/dist-packages (from pyasn1-modules>=0.2.1->google-auth>=2.15.0->google-generativeai) (0.6.1)\n",
            "Requirement already satisfied: charset_normalizer<4,>=2 in /usr/local/lib/python3.12/dist-packages (from requests<3.0.0,>=2.18.0->google-api-core->google-generativeai) (3.4.3)\n",
            "Requirement already satisfied: idna<4,>=2.5 in /usr/local/lib/python3.12/dist-packages (from requests<3.0.0,>=2.18.0->google-api-core->google-generativeai) (3.10)\n",
            "Requirement already satisfied: urllib3<3,>=1.21.1 in /usr/local/lib/python3.12/dist-packages (from requests<3.0.0,>=2.18.0->google-api-core->google-generativeai) (2.5.0)\n",
            "Requirement already satisfied: certifi>=2017.4.17 in /usr/local/lib/python3.12/dist-packages (from requests<3.0.0,>=2.18.0->google-api-core->google-generativeai) (2025.8.3)\n"
          ]
        }
      ]
    },
    {
      "cell_type": "code",
      "execution_count": 2,
      "metadata": {
        "id": "aVeBUd3L-fw-",
        "colab": {
          "base_uri": "https://localhost:8080/"
        },
        "outputId": "2d238485-81f1-4b1d-daff-c8debad8f37c"
      },
      "outputs": [
        {
          "output_type": "stream",
          "name": "stdout",
          "text": [
            "Requirement already satisfied: langchain in /usr/local/lib/python3.12/dist-packages (0.3.27)\n",
            "Requirement already satisfied: langchain_core in /usr/local/lib/python3.12/dist-packages (0.3.74)\n",
            "Requirement already satisfied: langchain-text-splitters<1.0.0,>=0.3.9 in /usr/local/lib/python3.12/dist-packages (from langchain) (0.3.9)\n",
            "Requirement already satisfied: langsmith>=0.1.17 in /usr/local/lib/python3.12/dist-packages (from langchain) (0.4.16)\n",
            "Requirement already satisfied: pydantic<3.0.0,>=2.7.4 in /usr/local/lib/python3.12/dist-packages (from langchain) (2.11.7)\n",
            "Requirement already satisfied: SQLAlchemy<3,>=1.4 in /usr/local/lib/python3.12/dist-packages (from langchain) (2.0.43)\n",
            "Requirement already satisfied: requests<3,>=2 in /usr/local/lib/python3.12/dist-packages (from langchain) (2.32.4)\n",
            "Requirement already satisfied: PyYAML>=5.3 in /usr/local/lib/python3.12/dist-packages (from langchain) (6.0.2)\n",
            "Requirement already satisfied: tenacity!=8.4.0,<10.0.0,>=8.1.0 in /usr/local/lib/python3.12/dist-packages (from langchain_core) (8.5.0)\n",
            "Requirement already satisfied: jsonpatch<2.0,>=1.33 in /usr/local/lib/python3.12/dist-packages (from langchain_core) (1.33)\n",
            "Requirement already satisfied: typing-extensions>=4.7 in /usr/local/lib/python3.12/dist-packages (from langchain_core) (4.15.0)\n",
            "Requirement already satisfied: packaging>=23.2 in /usr/local/lib/python3.12/dist-packages (from langchain_core) (25.0)\n",
            "Requirement already satisfied: jsonpointer>=1.9 in /usr/local/lib/python3.12/dist-packages (from jsonpatch<2.0,>=1.33->langchain_core) (3.0.0)\n",
            "Requirement already satisfied: httpx<1,>=0.23.0 in /usr/local/lib/python3.12/dist-packages (from langsmith>=0.1.17->langchain) (0.28.1)\n",
            "Requirement already satisfied: orjson>=3.9.14 in /usr/local/lib/python3.12/dist-packages (from langsmith>=0.1.17->langchain) (3.11.2)\n",
            "Requirement already satisfied: requests-toolbelt>=1.0.0 in /usr/local/lib/python3.12/dist-packages (from langsmith>=0.1.17->langchain) (1.0.0)\n",
            "Requirement already satisfied: zstandard>=0.23.0 in /usr/local/lib/python3.12/dist-packages (from langsmith>=0.1.17->langchain) (0.24.0)\n",
            "Requirement already satisfied: annotated-types>=0.6.0 in /usr/local/lib/python3.12/dist-packages (from pydantic<3.0.0,>=2.7.4->langchain) (0.7.0)\n",
            "Requirement already satisfied: pydantic-core==2.33.2 in /usr/local/lib/python3.12/dist-packages (from pydantic<3.0.0,>=2.7.4->langchain) (2.33.2)\n",
            "Requirement already satisfied: typing-inspection>=0.4.0 in /usr/local/lib/python3.12/dist-packages (from pydantic<3.0.0,>=2.7.4->langchain) (0.4.1)\n",
            "Requirement already satisfied: charset_normalizer<4,>=2 in /usr/local/lib/python3.12/dist-packages (from requests<3,>=2->langchain) (3.4.3)\n",
            "Requirement already satisfied: idna<4,>=2.5 in /usr/local/lib/python3.12/dist-packages (from requests<3,>=2->langchain) (3.10)\n",
            "Requirement already satisfied: urllib3<3,>=1.21.1 in /usr/local/lib/python3.12/dist-packages (from requests<3,>=2->langchain) (2.5.0)\n",
            "Requirement already satisfied: certifi>=2017.4.17 in /usr/local/lib/python3.12/dist-packages (from requests<3,>=2->langchain) (2025.8.3)\n",
            "Requirement already satisfied: greenlet>=1 in /usr/local/lib/python3.12/dist-packages (from SQLAlchemy<3,>=1.4->langchain) (3.2.4)\n",
            "Requirement already satisfied: anyio in /usr/local/lib/python3.12/dist-packages (from httpx<1,>=0.23.0->langsmith>=0.1.17->langchain) (4.10.0)\n",
            "Requirement already satisfied: httpcore==1.* in /usr/local/lib/python3.12/dist-packages (from httpx<1,>=0.23.0->langsmith>=0.1.17->langchain) (1.0.9)\n",
            "Requirement already satisfied: h11>=0.16 in /usr/local/lib/python3.12/dist-packages (from httpcore==1.*->httpx<1,>=0.23.0->langsmith>=0.1.17->langchain) (0.16.0)\n",
            "Requirement already satisfied: sniffio>=1.1 in /usr/local/lib/python3.12/dist-packages (from anyio->httpx<1,>=0.23.0->langsmith>=0.1.17->langchain) (1.3.1)\n"
          ]
        }
      ],
      "source": [
        "!pip install langchain langchain_core"
      ]
    },
    {
      "cell_type": "code",
      "source": [
        "!pip install  langchain-google-genai"
      ],
      "metadata": {
        "colab": {
          "base_uri": "https://localhost:8080/"
        },
        "id": "2Tw1l5hLaEaY",
        "outputId": "c50bbd08-4d83-4983-9258-2ba082bd670c"
      },
      "execution_count": 4,
      "outputs": [
        {
          "output_type": "stream",
          "name": "stdout",
          "text": [
            "Requirement already satisfied: langchain-google-genai in /usr/local/lib/python3.12/dist-packages (2.1.10)\n",
            "Requirement already satisfied: filetype<2.0.0,>=1.2.0 in /usr/local/lib/python3.12/dist-packages (from langchain-google-genai) (1.2.0)\n",
            "Requirement already satisfied: google-ai-generativelanguage<0.7.0,>=0.6.18 in /usr/local/lib/python3.12/dist-packages (from langchain-google-genai) (0.6.18)\n",
            "Requirement already satisfied: langchain-core<0.4.0,>=0.3.75 in /usr/local/lib/python3.12/dist-packages (from langchain-google-genai) (0.3.75)\n",
            "Requirement already satisfied: pydantic<3,>=2 in /usr/local/lib/python3.12/dist-packages (from langchain-google-genai) (2.11.7)\n",
            "Requirement already satisfied: google-api-core!=2.0.*,!=2.1.*,!=2.10.*,!=2.2.*,!=2.3.*,!=2.4.*,!=2.5.*,!=2.6.*,!=2.7.*,!=2.8.*,!=2.9.*,<3.0.0,>=1.34.1 in /usr/local/lib/python3.12/dist-packages (from google-api-core[grpc]!=2.0.*,!=2.1.*,!=2.10.*,!=2.2.*,!=2.3.*,!=2.4.*,!=2.5.*,!=2.6.*,!=2.7.*,!=2.8.*,!=2.9.*,<3.0.0,>=1.34.1->google-ai-generativelanguage<0.7.0,>=0.6.18->langchain-google-genai) (2.25.1)\n",
            "Requirement already satisfied: google-auth!=2.24.0,!=2.25.0,<3.0.0,>=2.14.1 in /usr/local/lib/python3.12/dist-packages (from google-ai-generativelanguage<0.7.0,>=0.6.18->langchain-google-genai) (2.38.0)\n",
            "Requirement already satisfied: proto-plus<2.0.0,>=1.22.3 in /usr/local/lib/python3.12/dist-packages (from google-ai-generativelanguage<0.7.0,>=0.6.18->langchain-google-genai) (1.26.1)\n",
            "Requirement already satisfied: protobuf!=4.21.0,!=4.21.1,!=4.21.2,!=4.21.3,!=4.21.4,!=4.21.5,<7.0.0,>=3.20.2 in /usr/local/lib/python3.12/dist-packages (from google-ai-generativelanguage<0.7.0,>=0.6.18->langchain-google-genai) (5.29.5)\n",
            "Requirement already satisfied: langsmith>=0.3.45 in /usr/local/lib/python3.12/dist-packages (from langchain-core<0.4.0,>=0.3.75->langchain-google-genai) (0.4.16)\n",
            "Requirement already satisfied: tenacity!=8.4.0,<10.0.0,>=8.1.0 in /usr/local/lib/python3.12/dist-packages (from langchain-core<0.4.0,>=0.3.75->langchain-google-genai) (8.5.0)\n",
            "Requirement already satisfied: jsonpatch<2.0,>=1.33 in /usr/local/lib/python3.12/dist-packages (from langchain-core<0.4.0,>=0.3.75->langchain-google-genai) (1.33)\n",
            "Requirement already satisfied: PyYAML>=5.3 in /usr/local/lib/python3.12/dist-packages (from langchain-core<0.4.0,>=0.3.75->langchain-google-genai) (6.0.2)\n",
            "Requirement already satisfied: typing-extensions>=4.7 in /usr/local/lib/python3.12/dist-packages (from langchain-core<0.4.0,>=0.3.75->langchain-google-genai) (4.15.0)\n",
            "Requirement already satisfied: packaging>=23.2 in /usr/local/lib/python3.12/dist-packages (from langchain-core<0.4.0,>=0.3.75->langchain-google-genai) (25.0)\n",
            "Requirement already satisfied: annotated-types>=0.6.0 in /usr/local/lib/python3.12/dist-packages (from pydantic<3,>=2->langchain-google-genai) (0.7.0)\n",
            "Requirement already satisfied: pydantic-core==2.33.2 in /usr/local/lib/python3.12/dist-packages (from pydantic<3,>=2->langchain-google-genai) (2.33.2)\n",
            "Requirement already satisfied: typing-inspection>=0.4.0 in /usr/local/lib/python3.12/dist-packages (from pydantic<3,>=2->langchain-google-genai) (0.4.1)\n",
            "Requirement already satisfied: googleapis-common-protos<2.0.0,>=1.56.2 in /usr/local/lib/python3.12/dist-packages (from google-api-core!=2.0.*,!=2.1.*,!=2.10.*,!=2.2.*,!=2.3.*,!=2.4.*,!=2.5.*,!=2.6.*,!=2.7.*,!=2.8.*,!=2.9.*,<3.0.0,>=1.34.1->google-api-core[grpc]!=2.0.*,!=2.1.*,!=2.10.*,!=2.2.*,!=2.3.*,!=2.4.*,!=2.5.*,!=2.6.*,!=2.7.*,!=2.8.*,!=2.9.*,<3.0.0,>=1.34.1->google-ai-generativelanguage<0.7.0,>=0.6.18->langchain-google-genai) (1.70.0)\n",
            "Requirement already satisfied: requests<3.0.0,>=2.18.0 in /usr/local/lib/python3.12/dist-packages (from google-api-core!=2.0.*,!=2.1.*,!=2.10.*,!=2.2.*,!=2.3.*,!=2.4.*,!=2.5.*,!=2.6.*,!=2.7.*,!=2.8.*,!=2.9.*,<3.0.0,>=1.34.1->google-api-core[grpc]!=2.0.*,!=2.1.*,!=2.10.*,!=2.2.*,!=2.3.*,!=2.4.*,!=2.5.*,!=2.6.*,!=2.7.*,!=2.8.*,!=2.9.*,<3.0.0,>=1.34.1->google-ai-generativelanguage<0.7.0,>=0.6.18->langchain-google-genai) (2.32.4)\n",
            "Requirement already satisfied: grpcio<2.0.0,>=1.33.2 in /usr/local/lib/python3.12/dist-packages (from google-api-core[grpc]!=2.0.*,!=2.1.*,!=2.10.*,!=2.2.*,!=2.3.*,!=2.4.*,!=2.5.*,!=2.6.*,!=2.7.*,!=2.8.*,!=2.9.*,<3.0.0,>=1.34.1->google-ai-generativelanguage<0.7.0,>=0.6.18->langchain-google-genai) (1.74.0)\n",
            "Requirement already satisfied: grpcio-status<2.0.0,>=1.33.2 in /usr/local/lib/python3.12/dist-packages (from google-api-core[grpc]!=2.0.*,!=2.1.*,!=2.10.*,!=2.2.*,!=2.3.*,!=2.4.*,!=2.5.*,!=2.6.*,!=2.7.*,!=2.8.*,!=2.9.*,<3.0.0,>=1.34.1->google-ai-generativelanguage<0.7.0,>=0.6.18->langchain-google-genai) (1.71.2)\n",
            "Requirement already satisfied: cachetools<6.0,>=2.0.0 in /usr/local/lib/python3.12/dist-packages (from google-auth!=2.24.0,!=2.25.0,<3.0.0,>=2.14.1->google-ai-generativelanguage<0.7.0,>=0.6.18->langchain-google-genai) (5.5.2)\n",
            "Requirement already satisfied: pyasn1-modules>=0.2.1 in /usr/local/lib/python3.12/dist-packages (from google-auth!=2.24.0,!=2.25.0,<3.0.0,>=2.14.1->google-ai-generativelanguage<0.7.0,>=0.6.18->langchain-google-genai) (0.4.2)\n",
            "Requirement already satisfied: rsa<5,>=3.1.4 in /usr/local/lib/python3.12/dist-packages (from google-auth!=2.24.0,!=2.25.0,<3.0.0,>=2.14.1->google-ai-generativelanguage<0.7.0,>=0.6.18->langchain-google-genai) (4.9.1)\n",
            "Requirement already satisfied: jsonpointer>=1.9 in /usr/local/lib/python3.12/dist-packages (from jsonpatch<2.0,>=1.33->langchain-core<0.4.0,>=0.3.75->langchain-google-genai) (3.0.0)\n",
            "Requirement already satisfied: httpx<1,>=0.23.0 in /usr/local/lib/python3.12/dist-packages (from langsmith>=0.3.45->langchain-core<0.4.0,>=0.3.75->langchain-google-genai) (0.28.1)\n",
            "Requirement already satisfied: orjson>=3.9.14 in /usr/local/lib/python3.12/dist-packages (from langsmith>=0.3.45->langchain-core<0.4.0,>=0.3.75->langchain-google-genai) (3.11.2)\n",
            "Requirement already satisfied: requests-toolbelt>=1.0.0 in /usr/local/lib/python3.12/dist-packages (from langsmith>=0.3.45->langchain-core<0.4.0,>=0.3.75->langchain-google-genai) (1.0.0)\n",
            "Requirement already satisfied: zstandard>=0.23.0 in /usr/local/lib/python3.12/dist-packages (from langsmith>=0.3.45->langchain-core<0.4.0,>=0.3.75->langchain-google-genai) (0.24.0)\n",
            "Requirement already satisfied: anyio in /usr/local/lib/python3.12/dist-packages (from httpx<1,>=0.23.0->langsmith>=0.3.45->langchain-core<0.4.0,>=0.3.75->langchain-google-genai) (4.10.0)\n",
            "Requirement already satisfied: certifi in /usr/local/lib/python3.12/dist-packages (from httpx<1,>=0.23.0->langsmith>=0.3.45->langchain-core<0.4.0,>=0.3.75->langchain-google-genai) (2025.8.3)\n",
            "Requirement already satisfied: httpcore==1.* in /usr/local/lib/python3.12/dist-packages (from httpx<1,>=0.23.0->langsmith>=0.3.45->langchain-core<0.4.0,>=0.3.75->langchain-google-genai) (1.0.9)\n",
            "Requirement already satisfied: idna in /usr/local/lib/python3.12/dist-packages (from httpx<1,>=0.23.0->langsmith>=0.3.45->langchain-core<0.4.0,>=0.3.75->langchain-google-genai) (3.10)\n",
            "Requirement already satisfied: h11>=0.16 in /usr/local/lib/python3.12/dist-packages (from httpcore==1.*->httpx<1,>=0.23.0->langsmith>=0.3.45->langchain-core<0.4.0,>=0.3.75->langchain-google-genai) (0.16.0)\n",
            "Requirement already satisfied: pyasn1<0.7.0,>=0.6.1 in /usr/local/lib/python3.12/dist-packages (from pyasn1-modules>=0.2.1->google-auth!=2.24.0,!=2.25.0,<3.0.0,>=2.14.1->google-ai-generativelanguage<0.7.0,>=0.6.18->langchain-google-genai) (0.6.1)\n",
            "Requirement already satisfied: charset_normalizer<4,>=2 in /usr/local/lib/python3.12/dist-packages (from requests<3.0.0,>=2.18.0->google-api-core!=2.0.*,!=2.1.*,!=2.10.*,!=2.2.*,!=2.3.*,!=2.4.*,!=2.5.*,!=2.6.*,!=2.7.*,!=2.8.*,!=2.9.*,<3.0.0,>=1.34.1->google-api-core[grpc]!=2.0.*,!=2.1.*,!=2.10.*,!=2.2.*,!=2.3.*,!=2.4.*,!=2.5.*,!=2.6.*,!=2.7.*,!=2.8.*,!=2.9.*,<3.0.0,>=1.34.1->google-ai-generativelanguage<0.7.0,>=0.6.18->langchain-google-genai) (3.4.3)\n",
            "Requirement already satisfied: urllib3<3,>=1.21.1 in /usr/local/lib/python3.12/dist-packages (from requests<3.0.0,>=2.18.0->google-api-core!=2.0.*,!=2.1.*,!=2.10.*,!=2.2.*,!=2.3.*,!=2.4.*,!=2.5.*,!=2.6.*,!=2.7.*,!=2.8.*,!=2.9.*,<3.0.0,>=1.34.1->google-api-core[grpc]!=2.0.*,!=2.1.*,!=2.10.*,!=2.2.*,!=2.3.*,!=2.4.*,!=2.5.*,!=2.6.*,!=2.7.*,!=2.8.*,!=2.9.*,<3.0.0,>=1.34.1->google-ai-generativelanguage<0.7.0,>=0.6.18->langchain-google-genai) (2.5.0)\n",
            "Requirement already satisfied: sniffio>=1.1 in /usr/local/lib/python3.12/dist-packages (from anyio->httpx<1,>=0.23.0->langsmith>=0.3.45->langchain-core<0.4.0,>=0.3.75->langchain-google-genai) (1.3.1)\n"
          ]
        }
      ]
    },
    {
      "cell_type": "markdown",
      "source": [
        "#importing libraries"
      ],
      "metadata": {
        "id": "tEOa9l8qaRsN"
      }
    },
    {
      "cell_type": "code",
      "source": [
        "import os\n",
        "import cv2\n",
        "import numpy as np\n",
        "import google.generativeai as genai\n",
        "import warnings\n",
        "warnings.filterwarnings(\"ignore\")"
      ],
      "metadata": {
        "id": "KjUZ5bdraEW2"
      },
      "execution_count": 5,
      "outputs": []
    },
    {
      "cell_type": "code",
      "source": [
        "from langchain_google_genai import ChatGoogleGenerativeAI\n",
        "from langchain.prompts import PromptTemplate\n",
        "from langchain.chains import LLMChain\n",
        "from langchain.chains import SequentialChain\n",
        "from langchain_core.output_parsers import StrOutputParser\n"
      ],
      "metadata": {
        "id": "dejYe00MaEUP"
      },
      "execution_count": 6,
      "outputs": []
    },
    {
      "cell_type": "code",
      "source": [
        "from langchain.chains import ConversationChain\n",
        "from langchain.memory import ConversationBufferWindowMemory\n",
        "memory = ConversationBufferWindowMemory(k=30)"
      ],
      "metadata": {
        "id": "ZHxY7UG3dO4w",
        "colab": {
          "base_uri": "https://localhost:8080/"
        },
        "outputId": "086b86fe-cdd2-4e75-ce3c-f41988d86870"
      },
      "execution_count": 7,
      "outputs": [
        {
          "output_type": "stream",
          "name": "stderr",
          "text": [
            "/tmp/ipython-input-823588586.py:3: LangChainDeprecationWarning: Please see the migration guide at: https://python.langchain.com/docs/versions/migrating_memory/\n",
            "  memory = ConversationBufferWindowMemory(k=30)\n"
          ]
        }
      ]
    },
    {
      "cell_type": "code",
      "source": [
        "from getpass import getpass\n",
        "os.environ[\"GOOGLE_API_KEY\"] = getpass(\"Enter your Gemini API key: \")"
      ],
      "metadata": {
        "colab": {
          "base_uri": "https://localhost:8080/"
        },
        "id": "dc1nd4eaqdBT",
        "outputId": "d6778ec8-411f-4edd-9615-f7ecaadb29b4"
      },
      "execution_count": 8,
      "outputs": [
        {
          "name": "stdout",
          "output_type": "stream",
          "text": [
            "Enter your Gemini API key: ··········\n"
          ]
        }
      ]
    },
    {
      "cell_type": "code",
      "source": [
        "text_llm = ChatGoogleGenerativeAI(model=\"gemini-2.5-flash\", temperature=0.8)"
      ],
      "metadata": {
        "id": "RZJNU3JlqrmU"
      },
      "execution_count": 9,
      "outputs": []
    },
    {
      "cell_type": "code",
      "source": [
        "\n",
        "prompt = \"\"\"\n",
        "You are a helpful multilingual chatbot.\n",
        "You can understand and reply in the same language the user speaks.\n",
        "Keep your responses clear and conversational.and answer within 100 words only\n",
        "\n",
        "Conversation so far:\n",
        "{history}\n",
        "\n",
        "User: {input}\n",
        "Chatbot:\"\"\"\n"
      ],
      "metadata": {
        "id": "rz5ehpVDqrjC"
      },
      "execution_count": 10,
      "outputs": []
    },
    {
      "cell_type": "markdown",
      "source": [
        "#genratoing text - chain"
      ],
      "metadata": {
        "id": "qZsVoVbVsXQk"
      }
    },
    {
      "cell_type": "code",
      "source": [
        "text_prompt_template = PromptTemplate(\n",
        "    input_variables=[\"history\", \"input\"],\n",
        "    template=prompt\n",
        ")"
      ],
      "metadata": {
        "id": "bVNWG21UqrfU"
      },
      "execution_count": 11,
      "outputs": []
    },
    {
      "cell_type": "code",
      "source": [
        "text_conversation_chain = ConversationChain(\n",
        "    llm=text_llm,\n",
        "    prompt=text_prompt_template,\n",
        "    memory=memory,\n",
        ")\n"
      ],
      "metadata": {
        "id": "Ysb3dv1iqzCE",
        "colab": {
          "base_uri": "https://localhost:8080/"
        },
        "outputId": "3934f594-5beb-4167-b6c6-584af2e660dd"
      },
      "execution_count": 12,
      "outputs": [
        {
          "output_type": "stream",
          "name": "stderr",
          "text": [
            "/tmp/ipython-input-3492359538.py:1: LangChainDeprecationWarning: The class `ConversationChain` was deprecated in LangChain 0.2.7 and will be removed in 1.0. Use :class:`~langchain_core.runnables.history.RunnableWithMessageHistory` instead.\n",
            "  text_conversation_chain = ConversationChain(\n"
          ]
        }
      ]
    },
    {
      "cell_type": "markdown",
      "source": [
        "english prompt"
      ],
      "metadata": {
        "id": "iZxRiqq8rdz_"
      }
    },
    {
      "cell_type": "code",
      "source": [
        "user_inputs = [\n",
        "\n",
        "\"What are the best crops to grow in chennai?\",\n",
        "\"How can I improve soil fertility using organic methods for the chennai environment?\",\n",
        "\"What are the most effective pest control techniques for the crop you suggested ?\",\n",
        "\"What are the tamilNadu government schemes for small scales farmers\"\n",
        "\n",
        "]\n",
        "\n",
        "for i, user_input in enumerate(user_inputs, 1):\n",
        "    response = text_conversation_chain.invoke({\"input\": user_input})\n",
        "    print(f\"**User:** {user_input}\")\n",
        "    print(f\"**Chatbot:** {response['response']}\")\n",
        "    print(\"###############################################################################################################\")\n"
      ],
      "metadata": {
        "colab": {
          "base_uri": "https://localhost:8080/"
        },
        "id": "SXqd9kWBmQM8",
        "outputId": "fc219d76-b7c4-43ab-e98f-5377128d8bec"
      },
      "execution_count": 13,
      "outputs": [
        {
          "output_type": "stream",
          "name": "stdout",
          "text": [
            "**User:** What are the best crops to grow in chennai?\n",
            "**Chatbot:** Given Chennai's hot and humid climate, several crops thrive well!\n",
            "\n",
            "For vegetables, you can successfully grow brinjal (eggplant), okra (ladyfinger), various gourds (like bitter or ridge gourd), chillies, and leafy greens such as amaranth or spinach. Tomatoes can also be grown with proper care.\n",
            "\n",
            "Regarding fruits, papaya and banana are excellent choices. Herbs like mint and basil also do very well. Focusing on heat-tolerant and drought-resistant varieties will generally give you the best yield.\n",
            "###############################################################################################################\n",
            "**User:** How can I improve soil fertility using organic methods for the chennai environment?\n",
            "**Chatbot:** That's an excellent goal for Chennai's climate!\n",
            "\n",
            "To boost your soil fertility organically, focus on adding plenty of **compost** and **well-rotted farmyard manure**. These provide vital nutrients and improve soil structure, crucial for water retention in our hot climate.\n",
            "\n",
            "**Mulching** with organic materials like straw or dried leaves is also key. It conserves moisture, suppresses weeds, and slowly breaks down to enrich the soil. Consider planting **green manure crops** like sunn hemp, digging them back in before flowering to add nitrogen and organic matter. **Crop rotation** also naturally enhances soil health.\n",
            "###############################################################################################################\n",
            "**User:** What are the most effective pest control techniques for the crop you suggested ?\n",
            "**Chatbot:** For the crops suggested, effective pest control in Chennai often involves a mix of organic strategies!\n",
            "\n",
            "Firstly, **regular inspection** is key to catching pests early. **Hand-picking** larger pests like caterpillars or slugs is very effective. **Neem oil spray** is an excellent organic option; it works as a repellent and insecticide for many common pests like aphids, whiteflies, and mites.\n",
            "\n",
            "Consider **companion planting** – for instance, marigolds can deter nematodes, and basil can repel some flying insects. Attract **beneficial insects** like ladybugs by growing flowering plants. Finally, maintain good garden **sanitation** by removing diseased leaves and fallen fruits to prevent pest breeding.\n",
            "###############################################################################################################\n",
            "**User:** What are the tamilNadu government schemes for small scales farmers\n",
            "**Chatbot:** The Tamil Nadu government offers several schemes to support small-scale farmers!\n",
            "\n",
            "Key initiatives include **subsidies** for agricultural machinery, quality seeds, and fertilizers to reduce input costs. The **Pradhan Mantri Fasal Bima Yojana (PMFBY)**, implemented with state support, provides crop insurance against losses.\n",
            "\n",
            "There are also schemes for **micro-irrigation** (like drip and sprinkler systems) to conserve water, and special **interest-free crop loans** through cooperative banks. The **Chief Minister's Solar Powered Pump Set Scheme** aids in sustainable irrigation. Additionally, support for forming **Farmer Producer Organizations (FPOs)** helps farmers collectively market their produce.\n",
            "###############################################################################################################\n"
          ]
        }
      ]
    },
    {
      "cell_type": "markdown",
      "source": [
        "Hiindi prompt"
      ],
      "metadata": {
        "id": "b_Sl_Wt-rhF0"
      }
    },
    {
      "cell_type": "code",
      "source": [
        "user_inputs = [\n",
        "    \"\"\"मेरी जमीन चेन्नई में स्थित है, मिट्टी काली मिट्टी है, और मौसम गर्मी है।\n",
        "    इस मौसम में कौन-कौन सी फसल उगाई जा सकती है और कौन-सी फसल सबसे ज्यादा लाभदायक रहेगी? कृपया विस्तार से सुझाव दें।\"\"\"\n",
        "]\n",
        "\n",
        "for i, user_input in enumerate(user_inputs, 1):\n",
        "    response = text_conversation_chain.invoke({\"input\": user_input})\n",
        "    print(f\"**User:** {user_input}\")\n",
        "    print(f\"**Chatbot:** {response['response']}\")\n",
        "    print(\"###############################################################################################################\")\n"
      ],
      "metadata": {
        "colab": {
          "base_uri": "https://localhost:8080/"
        },
        "outputId": "c2f9bcfb-b8b8-47c3-cb1b-497f73ac41b6",
        "id": "sv1Ywml5nkYg"
      },
      "execution_count": 14,
      "outputs": [
        {
          "output_type": "stream",
          "name": "stdout",
          "text": [
            "**User:** मेरी जमीन चेन्नई में स्थित है, मिट्टी काली मिट्टी है, और मौसम गर्मी है।\n",
            "    इस मौसम में कौन-कौन सी फसल उगाई जा सकती है और कौन-सी फसल सबसे ज्यादा लाभदायक रहेगी? कृपया विस्तार से सुझाव दें।\n",
            "**Chatbot:** आपकी चेन्नई की काली मिट्टी और गर्म मौसम को देखते हुए, कई फसलें लाभदायक हो सकती हैं!\n",
            "\n",
            "**सब्जियां:** बैंगन, भिंडी, मिर्च, विभिन्न प्रकार की लौकी (जैसे तुरई या करेला), और पत्तेदार सब्जियां जैसे पालक या चौलाई काली मिट्टी में अच्छी तरह उगती हैं और गर्मी सहन करती हैं। इनकी स्थानीय बाजार में हमेशा मांग रहती है।\n",
            "\n",
            "**फल:** पपीता और केला भी अच्छे विकल्प हैं, जो गर्म मौसम और काली मिट्टी दोनों के लिए उपयुक्त हैं।\n",
            "\n",
            "**सबसे लाभदायक:** आमतौर पर, बैंगन, भिंडी और मिर्च जैसी सब्जियों की स्थानीय बाजार में लगातार मांग और अच्छी कीमतें मिलती हैं, जिससे वे काफी लाभदायक हो सकती हैं।\n",
            "###############################################################################################################\n"
          ]
        }
      ]
    },
    {
      "cell_type": "markdown",
      "source": [
        "Tamil prompt"
      ],
      "metadata": {
        "id": "JVEfBaYtrjg6"
      }
    },
    {
      "cell_type": "code",
      "source": [
        "user_inputs = [\n",
        "  \"என் நிலத்திற்கு சிறந்த பயிர் எது?\",\n",
        "\n",
        "\"மண்ணின் உரத்தன்மையை மேம்படுத்த என்ன செய்ய வேண்டும்?\",\n",
        "\n",
        "\"காய்கறிகளுக்கான சிறந்த பூச்சிக்கொல்லி வழிமுறைகள் என்ன?\",\n",
        "\n",
        "\"தண்ணீர் மிச்சம் செய்ய சிறந்த பாசன முறைகள் எவை?\",\n",
        "\n",
        "\"இளைய விவசாயிகளுக்கான தொழில்நுட்ப உதவிகள் என்ன?\"\n",
        "]\n",
        "\n",
        "for i, user_input in enumerate(user_inputs, 1):\n",
        "    response = text_conversation_chain.invoke({\"input\": user_input})\n",
        "    print(f\"**User:** {user_input}\")\n",
        "    print(f\"**Chatbot:** {response['response']}\")\n",
        "    print(\"###############################################################################################################\")"
      ],
      "metadata": {
        "colab": {
          "base_uri": "https://localhost:8080/"
        },
        "id": "2rprNwxSptee",
        "outputId": "16249398-0d93-4da0-e56e-530ca50bc514"
      },
      "execution_count": 15,
      "outputs": [
        {
          "output_type": "stream",
          "name": "stdout",
          "text": [
            "**User:** என் நிலத்திற்கு சிறந்த பயிர் எது?\n",
            "**Chatbot:** உங்கள் சென்னையின் கருப்பு மண் மற்றும் வெப்பமான காலநிலைக்கு, நாம் முன்பு விவாதித்தபடி, கத்தரி, வெண்டைக்காய் மற்றும் மிளகாய் போன்ற காய்கறிகள் சிறந்த தேர்வுகளாகும். இவை உள்ளூர் சந்தையில் நல்ல தேவை மற்றும் லாபத்தைக் கொண்டுள்ளன.\n",
            "\n",
            "பப்பாளி மற்றும் வாழைப்பழம் போன்ற பழங்களும் நல்ல பலனைத் தரும். உங்கள் மண்ணின் ஊட்டச்சத்து மற்றும் நீர்ப்பாசன வசதிகளைப் பொறுத்து இந்த பயிர்கள் நல்ல விளைச்சலைத் தரும்.\n",
            "###############################################################################################################\n",
            "**User:** மண்ணின் உரத்தன்மையை மேம்படுத்த என்ன செய்ய வேண்டும்?\n",
            "**Chatbot:** மண்ணின் உரத்தன்மையை மேம்படுத்த, **கம்போஸ்ட்** மற்றும் நன்கு மக்கிய **தொழு உரம்** சேர்ப்பது முக்கியம். இவை மண்ணுக்கு அத்தியாவசிய ஊட்டச்சத்துக்களை வழங்கி, நீர் பிடிப்புத்தன்மையை மேம்படுத்தும்.\n",
            "\n",
            "**கரிம மூடாக்கு** (உலர்ந்த இலைகள், வைக்கோல்) இடுவது மண்ணின் ஈரப்பதத்தைப் பாதுகாத்து, மெதுவாக மட்கி உரச்சத்தை சேர்க்கும். **பயிர்களை சுழற்சி முறையில் பயிரிடுவது** மற்றும் **பசுந்தாள் உரப் பயிர்களை** வளர்த்து மண்ணில் உழுவதும் மண்ணின் ஆரோக்கியத்தையும் வளத்தையும் அதிகரிக்கும்.\n",
            "###############################################################################################################\n",
            "**User:** காய்கறிகளுக்கான சிறந்த பூச்சிக்கொல்லி வழிமுறைகள் என்ன?\n",
            "**Chatbot:** காய்கறிகளுக்கு, இயற்கையான பூச்சிக்கட்டுப்பாட்டு வழிமுறைகளைப் பின்பற்றுவது சிறந்தது!\n",
            "\n",
            "**தொடர்ந்து கண்காணித்து** பூச்சிகளை ஆரம்பத்திலேயே கண்டறிந்து, பெரியவற்றை **கைகளால் அகற்றலாம்**. **வேப்ப எண்ணெய் தெளிப்பு** அசுவினி, வெள்ளை ஈக்கள் போன்ற பல பொதுவான பூச்சிகளுக்கு எதிராக மிகவும் பயனுள்ள கரிம தீர்வாகும்.\n",
            "\n",
            "**இணைப் பயிர் சாகுபடி** (எ.கா: சாமந்தி பூச்சிகளை விரட்டும்) மற்றும் **நன்மை செய்யும் பூச்சிகளை** ஈர்க்கும் செடிகளை வளர்ப்பது உதவும். மேலும், தோட்டத்தில் **சுத்தத்தைப் பராமரிப்பது** (நோய்வாய்ப்பட்ட இலைகள், பழங்களை நீக்குதல்) பூச்சித் தாக்குதலைக் குறைக்கும்.\n",
            "###############################################################################################################\n",
            "**User:** தண்ணீர் மிச்சம் செய்ய சிறந்த பாசன முறைகள் எவை?\n",
            "**Chatbot:** தண்ணீர் சேமிப்புக்கு, **சொட்டு நீர் பாசனம்** (Drip Irrigation) மற்றும் **தெளிப்பு நீர் பாசனம்** (Sprinkler Irrigation) மிகச் சிறந்த முறைகள்.\n",
            "\n",
            "**சொட்டு நீர் பாசனம்** தண்ணீரை நேரடியாக செடிகளின் வேர்களுக்குக் கொண்டு சென்று, நீர் விரயத்தைக் குறைத்து, ஆவியாவதைத் தடுக்கும். இது மிகவும் திறன்மிக்க முறையாகும்.\n",
            "\n",
            "**தெளிப்பு நீர் பாசனம்** தண்ணீரை சீராகப் பரப்பி, பயிர்களுக்கு தேவையான ஈரப்பதத்தை வழங்கும்.\n",
            "\n",
            "மேலும், **மூடாக்கு** (Mulching) இடுவது மண்ணின் ஈரப்பதத்தைப் பாதுகாத்து, நீர்த் தேவையை கணிசமாகக் குறைக்கும். இந்த முறைகள் சென்னை போன்ற வெப்பமான காலநிலைக்கு மிகவும் பயனுள்ளவை.\n",
            "###############################################################################################################\n",
            "**User:** இளைய விவசாயிகளுக்கான தொழில்நுட்ப உதவிகள் என்ன?\n",
            "**Chatbot:** இளைய விவசாயிகளுக்கு உதவும் பல தொழில்நுட்பங்கள் உள்ளன!\n",
            "\n",
            "காலநிலை முன்னறிவிப்பு, பயிர் ஆலோசனை மற்றும் சந்தை விலை போன்ற தகவல்களை வழங்கும் **மொபைல் செயலிகள்** மிகவும் பயனுள்ளவை.\n",
            "\n",
            "**ட்ரோன்கள்** பயிர் கண்காணிப்பு மற்றும் நிலம் அளவிடுவதற்கு உதவுகின்றன. **மண் சென்சார்கள்** மூலம் மண்ணின் ஈரப்பதம் மற்றும் ஊட்டச்சத்துக்களை துல்லியமாக அறிந்து நீர்ப்பாசனம் மற்றும் உர நிர்வாகத்தை மேம்படுத்தலாம்.\n",
            "\n",
            "மேலும், **ஆன்லைன் சந்தைப்படுத்தல் தளங்கள்** மூலம் தங்கள் விளைபொருட்களை நேரடியாக விற்பனை செய்து நல்ல லாபம் பெறலாம். இந்த தொழில்நுட்பங்கள் விவசாயத்தை மேலும் திறம்படவும் லாபகரமாகவும் மாற்ற உதவும்.\n",
            "###############################################################################################################\n"
          ]
        }
      ]
    },
    {
      "cell_type": "markdown",
      "source": [
        "telgu prompt"
      ],
      "metadata": {
        "id": "_zrDzdbDrmCS"
      }
    },
    {
      "cell_type": "code",
      "source": [
        "user_inputs = [\n",
        "\" నా మట్టికి తగిన ఉత్తమ పంట ఏది?\"\n",
        "\n",
        "\"మట్టిలో ఉత్పత్తి శక్తిని పెంచడానికి ఏ సేంద్రీయ విధానాలు ఉపయోగించాలి?\",\n",
        "\n",
        "\"కూరగాయలకు సమర్ధవంతమైన క్రిమి నియంత్రణ పద్ధతులు ఏవి?\",\n",
        "\n",
        "\"చుక్కనిరోధక సాగు (Drip Irrigation) పద్దతులు సంప్రదాయ పద్ధతులతో పోలిస్తే ఎంత సమర్థవంతమని ఉంది?\",\n",
        "\n",
        "\"చిన్న రైతుల కోసం అత్యాధునిక సాంకేతిక పద్ధతులు ఏవి?\"\n",
        "]\n",
        "\n",
        "for i, user_input in enumerate(user_inputs, 1):\n",
        "    response = text_conversation_chain.invoke({\"input\": user_input})\n",
        "    print(f\"**User:** {user_input}\")\n",
        "    print(f\"**Chatbot:** {response['response']}\")\n",
        "    print(\"###############################################################################################################\")"
      ],
      "metadata": {
        "colab": {
          "base_uri": "https://localhost:8080/"
        },
        "id": "bcnk-Z05rpyK",
        "outputId": "e2b67eb2-5703-4405-fb4b-332d5204e4c0"
      },
      "execution_count": 16,
      "outputs": [
        {
          "output_type": "stream",
          "name": "stdout",
          "text": [
            "**User:**  నా మట్టికి తగిన ఉత్తమ పంట ఏది?మట్టిలో ఉత్పత్తి శక్తిని పెంచడానికి ఏ సేంద్రీయ విధానాలు ఉపయోగించాలి?\n",
            "**Chatbot:** మీ చెన్నైలోని నల్లరేగడి మట్టి మరియు వేడి వాతావరణానికి, వంగ, బెండ, మిరప వంటి కూరగాయలు ఉత్తమ ఎంపికలు. ఇవి స్థానిక మార్కెట్‌లో మంచి డిమాండ్ మరియు లాభదాయకతను కలిగి ఉంటాయి. బొప్పాయి మరియు అరటి వంటి పండ్లు కూడా బాగా పండుతాయి.\n",
            "\n",
            "మట్టిలో ఉత్పత్తి శక్తిని పెంచడానికి, సేంద్రీయ ఎరువు (కంపొస్ట్) మరియు బాగా కుళ్ళిన పశువుల ఎరువును జోడించండి. సేంద్రీయ మల్చింగ్ (ఎండు ఆకులు, గడ్డి) మట్టి తేమను కాపాడుతుంది. పంట మార్పిడి (crop rotation) మరియు పచ్చిరొట్ట ఎరువు (green manure) వాడకం కూడా మట్టి ఆరోగ్యాన్ని మెరుగుపరుస్తుంది.\n",
            "###############################################################################################################\n",
            "**User:** కూరగాయలకు సమర్ధవంతమైన క్రిమి నియంత్రణ పద్ధతులు ఏవి?\n",
            "**Chatbot:** కూరగాయలకు సమర్థవంతమైన క్రిమి నియంత్రణకు సేంద్రీయ పద్ధతులు ఉత్తమం!\n",
            "\n",
            "ముందుగా, **నిరంతర పర్యవేక్షణ** ద్వారా పురుగులను ప్రారంభ దశలోనే గుర్తించడం ముఖ్యం. పెద్ద పురుగులను **చేతితో తీసివేయవచ్చు**.\n",
            "\n",
            "**వేప నూనె పిచికారీ** అఫిడ్స్, తెల్లదోమ వంటి అనేక సాధారణ పురుగులకు వ్యతిరేకంగా చాలా ప్రభావవంతమైన సేంద్రీయ పరిష్కారం.\n",
            "\n",
            "**సహచర పంటలను** (ఉదాహరణకు, బంతి పువ్వులు కొన్ని పురుగులను దూరంగా ఉంచుతాయి) పెంచడం, **ప్రయోజనకరమైన కీటకాలను** ఆకర్షించడం కూడా సహాయపడుతుంది. చివరగా, **తోట పరిశుభ్రతను** పాటించడం (వ్యాధిగ్రస్తమైన ఆకులు, పండ్లను తొలగించడం) పురుగుల బెడదను తగ్గిస్తుంది.\n",
            "###############################################################################################################\n",
            "**User:** చుక్కనిరోధక సాగు (Drip Irrigation) పద్దతులు సంప్రదాయ పద్ధతులతో పోలిస్తే ఎంత సమర్థవంతమని ఉంది?\n",
            "**Chatbot:** చుక్కనీటి పారుదల (Drip Irrigation) సంప్రదాయ పద్ధతుల కంటే చాలా సమర్థవంతమైనది. ఇది నీటిని గణనీయంగా ఆదా చేస్తుంది, సాధారణంగా 30% నుండి 70% వరకు.\n",
            "\n",
            "ఈ పద్ధతిలో, నీరు నేరుగా మొక్కల వేర్లకు చిన్న బిందువులుగా అందించబడుతుంది. దీనివల్ల ఆవిరి కావడం, భూమిలోకి ఇంకిపోవడం, మరియు వృథా చాలా తగ్గుతుంది. అంతేకాకుండా, పోషకాలను కూడా నీటితో పాటు సమర్థవంతంగా అందించవచ్చు.\n",
            "\n",
            "ఫలితంగా, తక్కువ నీటితో ఎక్కువ దిగుబడిని సాధించవచ్చు, ఇది రైతులకు ఆర్థికంగా కూడా లాభదాయకం.\n",
            "###############################################################################################################\n",
            "**User:** చిన్న రైతుల కోసం అత్యాధునిక సాంకేతిక పద్ధతులు ఏవి?\n",
            "**Chatbot:** చిన్న రైతుల కోసం అనేక అత్యాధునిక సాంకేతిక పద్ధతులు అందుబాటులో ఉన్నాయి!\n",
            "\n",
            "వాతావరణ సూచనలు, పంట సలహాలు, మరియు మార్కెట్ ధరల సమాచారాన్ని అందించే **మొబైల్ యాప్‌లు** చాలా ఉపయోగకరంగా ఉంటాయి.\n",
            "\n",
            "**డ్రోన్‌లు** పంటలను పర్యవేక్షించడానికి, భూమిని కొలవడానికి మరియు పురుగుమందులను పిచికారీ చేయడానికి సహాయపడతాయి.\n",
            "\n",
            "**మట్టి సెన్సార్‌లు** మట్టి తేమ మరియు పోషక స్థాయిలను ఖచ్చితంగా తెలుసుకోవడానికి, తద్వారా నీటిపారుదల మరియు ఎరువుల వాడకాన్ని ఆప్టిమైజ్ చేయడానికి ఉపయోగపడతాయి.\n",
            "\n",
            "అలాగే, **ఆన్‌లైన్ మార్కెటింగ్ ప్లాట్‌ఫామ్‌లు** రైతులు తమ ఉత్పత్తులను నేరుగా వినియోగదారులకు విక్రయించి మంచి లాభం పొందడానికి అవకాశం కల్పిస్తాయి. ఈ పద్ధతులు వ్యవసాయాన్ని మరింత సమర్థవంతంగా మరియు లాభదాయకంగా మారుస్తాయి.\n",
            "###############################################################################################################\n"
          ]
        }
      ]
    },
    {
      "cell_type": "markdown",
      "source": [
        "#IMAGE ANALYSIS CHATBOT"
      ],
      "metadata": {
        "id": "SUuR7vaZOir-"
      }
    },
    {
      "cell_type": "code",
      "source": [
        "import base64\n",
        "import os\n",
        "from IPython.display import display, Markdown"
      ],
      "metadata": {
        "id": "9iqvGLcOOnhb"
      },
      "execution_count": 90,
      "outputs": []
    },
    {
      "cell_type": "code",
      "source": [
        "from langchain_core.output_parsers import StrOutputParser\n",
        "output_parser = StrOutputParser()"
      ],
      "metadata": {
        "id": "s9MLk5IfYDjm"
      },
      "execution_count": 106,
      "outputs": []
    },
    {
      "cell_type": "code",
      "source": [
        "from getpass import getpass\n",
        "from google.colab import files\n",
        "\n",
        "os.environ[\"gemini_image_api_key\"] = getpass(\"Enter your Gemini API key: \")"
      ],
      "metadata": {
        "colab": {
          "base_uri": "https://localhost:8080/"
        },
        "id": "hHrhd-F2dXru",
        "outputId": "672dd290-ec46-4fd5-a742-375a5b92cbfa"
      },
      "execution_count": 92,
      "outputs": [
        {
          "name": "stdout",
          "output_type": "stream",
          "text": [
            "Enter your Gemini API key: ··········\n"
          ]
        }
      ]
    },
    {
      "cell_type": "code",
      "source": [
        "image_llm = ChatGoogleGenerativeAI(\n",
        "    model=\"gemini-2.5-flash\",\n",
        "    google_api_key=os.environ[\"gemini_image_api_key\"]\n",
        ")"
      ],
      "metadata": {
        "id": "BUKyUThTdoJd"
      },
      "execution_count": 107,
      "outputs": []
    },
    {
      "cell_type": "code",
      "source": [
        "image_memory = ConversationBufferWindowMemory(k=30)"
      ],
      "metadata": {
        "id": "bQbMQAqgdqfc"
      },
      "execution_count": 108,
      "outputs": []
    },
    {
      "cell_type": "code",
      "source": [
        "image_prompt = \"\"\"You are an AI agricultural assistant. Analyze uploaded crop images and provide details.\n",
        "\n",
        "Identify the crop, diagnose issues (pests, diseases, nutrient deficiencies), symptoms, causes, and recommendations.\n",
        "answer in less than 100 word\n",
        "Respond in the language of {state}.\n",
        "User: {input}\n",
        "Chatbot:\"\"\""
      ],
      "metadata": {
        "id": "NrsB7hWle109"
      },
      "execution_count": 122,
      "outputs": []
    },
    {
      "cell_type": "code",
      "source": [
        "image_prompt_template = PromptTemplate(\n",
        "    input_variables=[\"state\", \"history\", \"input\"],\n",
        "    template=image_prompt\n",
        ")"
      ],
      "metadata": {
        "id": "96qpgjIrdx9J"
      },
      "execution_count": 123,
      "outputs": []
    },
    {
      "cell_type": "code",
      "source": [
        "\n",
        "image_llm_chain = LLMChain(\n",
        "    llm=image_llm,\n",
        "    prompt=image_prompt_template,\n",
        "    output_parser=output_parser,\n",
        "\n",
        ")"
      ],
      "metadata": {
        "id": "sR8FfbQdd0Pl"
      },
      "execution_count": 124,
      "outputs": []
    },
    {
      "cell_type": "code",
      "source": [
        "def encoded_image(image_path):\n",
        "    with open(image_path, \"rb\") as f:\n",
        "        return base64.b64encode(f.read()).decode(\"utf-8\")"
      ],
      "metadata": {
        "id": "6Y7NC9oFd3AU"
      },
      "execution_count": 112,
      "outputs": []
    },
    {
      "cell_type": "code",
      "source": [
        "from google.colab import files\n",
        "uploaded = files.upload()\n",
        "image_path = list(uploaded.keys())[0]\n",
        "base64_image_link = encoded_image(image_path)"
      ],
      "metadata": {
        "colab": {
          "base_uri": "https://localhost:8080/",
          "height": 74
        },
        "id": "ZTh8ETLGeJtV",
        "outputId": "002a9e15-d50b-4f96-ddaf-a96115af320c"
      },
      "execution_count": 113,
      "outputs": [
        {
          "output_type": "display_data",
          "data": {
            "text/plain": [
              "<IPython.core.display.HTML object>"
            ],
            "text/html": [
              "\n",
              "     <input type=\"file\" id=\"files-848a92c0-fbf9-4c55-889a-47a571584988\" name=\"files[]\" multiple disabled\n",
              "        style=\"border:none\" />\n",
              "     <output id=\"result-848a92c0-fbf9-4c55-889a-47a571584988\">\n",
              "      Upload widget is only available when the cell has been executed in the\n",
              "      current browser session. Please rerun this cell to enable.\n",
              "      </output>\n",
              "      <script>// Copyright 2017 Google LLC\n",
              "//\n",
              "// Licensed under the Apache License, Version 2.0 (the \"License\");\n",
              "// you may not use this file except in compliance with the License.\n",
              "// You may obtain a copy of the License at\n",
              "//\n",
              "//      http://www.apache.org/licenses/LICENSE-2.0\n",
              "//\n",
              "// Unless required by applicable law or agreed to in writing, software\n",
              "// distributed under the License is distributed on an \"AS IS\" BASIS,\n",
              "// WITHOUT WARRANTIES OR CONDITIONS OF ANY KIND, either express or implied.\n",
              "// See the License for the specific language governing permissions and\n",
              "// limitations under the License.\n",
              "\n",
              "/**\n",
              " * @fileoverview Helpers for google.colab Python module.\n",
              " */\n",
              "(function(scope) {\n",
              "function span(text, styleAttributes = {}) {\n",
              "  const element = document.createElement('span');\n",
              "  element.textContent = text;\n",
              "  for (const key of Object.keys(styleAttributes)) {\n",
              "    element.style[key] = styleAttributes[key];\n",
              "  }\n",
              "  return element;\n",
              "}\n",
              "\n",
              "// Max number of bytes which will be uploaded at a time.\n",
              "const MAX_PAYLOAD_SIZE = 100 * 1024;\n",
              "\n",
              "function _uploadFiles(inputId, outputId) {\n",
              "  const steps = uploadFilesStep(inputId, outputId);\n",
              "  const outputElement = document.getElementById(outputId);\n",
              "  // Cache steps on the outputElement to make it available for the next call\n",
              "  // to uploadFilesContinue from Python.\n",
              "  outputElement.steps = steps;\n",
              "\n",
              "  return _uploadFilesContinue(outputId);\n",
              "}\n",
              "\n",
              "// This is roughly an async generator (not supported in the browser yet),\n",
              "// where there are multiple asynchronous steps and the Python side is going\n",
              "// to poll for completion of each step.\n",
              "// This uses a Promise to block the python side on completion of each step,\n",
              "// then passes the result of the previous step as the input to the next step.\n",
              "function _uploadFilesContinue(outputId) {\n",
              "  const outputElement = document.getElementById(outputId);\n",
              "  const steps = outputElement.steps;\n",
              "\n",
              "  const next = steps.next(outputElement.lastPromiseValue);\n",
              "  return Promise.resolve(next.value.promise).then((value) => {\n",
              "    // Cache the last promise value to make it available to the next\n",
              "    // step of the generator.\n",
              "    outputElement.lastPromiseValue = value;\n",
              "    return next.value.response;\n",
              "  });\n",
              "}\n",
              "\n",
              "/**\n",
              " * Generator function which is called between each async step of the upload\n",
              " * process.\n",
              " * @param {string} inputId Element ID of the input file picker element.\n",
              " * @param {string} outputId Element ID of the output display.\n",
              " * @return {!Iterable<!Object>} Iterable of next steps.\n",
              " */\n",
              "function* uploadFilesStep(inputId, outputId) {\n",
              "  const inputElement = document.getElementById(inputId);\n",
              "  inputElement.disabled = false;\n",
              "\n",
              "  const outputElement = document.getElementById(outputId);\n",
              "  outputElement.innerHTML = '';\n",
              "\n",
              "  const pickedPromise = new Promise((resolve) => {\n",
              "    inputElement.addEventListener('change', (e) => {\n",
              "      resolve(e.target.files);\n",
              "    });\n",
              "  });\n",
              "\n",
              "  const cancel = document.createElement('button');\n",
              "  inputElement.parentElement.appendChild(cancel);\n",
              "  cancel.textContent = 'Cancel upload';\n",
              "  const cancelPromise = new Promise((resolve) => {\n",
              "    cancel.onclick = () => {\n",
              "      resolve(null);\n",
              "    };\n",
              "  });\n",
              "\n",
              "  // Wait for the user to pick the files.\n",
              "  const files = yield {\n",
              "    promise: Promise.race([pickedPromise, cancelPromise]),\n",
              "    response: {\n",
              "      action: 'starting',\n",
              "    }\n",
              "  };\n",
              "\n",
              "  cancel.remove();\n",
              "\n",
              "  // Disable the input element since further picks are not allowed.\n",
              "  inputElement.disabled = true;\n",
              "\n",
              "  if (!files) {\n",
              "    return {\n",
              "      response: {\n",
              "        action: 'complete',\n",
              "      }\n",
              "    };\n",
              "  }\n",
              "\n",
              "  for (const file of files) {\n",
              "    const li = document.createElement('li');\n",
              "    li.append(span(file.name, {fontWeight: 'bold'}));\n",
              "    li.append(span(\n",
              "        `(${file.type || 'n/a'}) - ${file.size} bytes, ` +\n",
              "        `last modified: ${\n",
              "            file.lastModifiedDate ? file.lastModifiedDate.toLocaleDateString() :\n",
              "                                    'n/a'} - `));\n",
              "    const percent = span('0% done');\n",
              "    li.appendChild(percent);\n",
              "\n",
              "    outputElement.appendChild(li);\n",
              "\n",
              "    const fileDataPromise = new Promise((resolve) => {\n",
              "      const reader = new FileReader();\n",
              "      reader.onload = (e) => {\n",
              "        resolve(e.target.result);\n",
              "      };\n",
              "      reader.readAsArrayBuffer(file);\n",
              "    });\n",
              "    // Wait for the data to be ready.\n",
              "    let fileData = yield {\n",
              "      promise: fileDataPromise,\n",
              "      response: {\n",
              "        action: 'continue',\n",
              "      }\n",
              "    };\n",
              "\n",
              "    // Use a chunked sending to avoid message size limits. See b/62115660.\n",
              "    let position = 0;\n",
              "    do {\n",
              "      const length = Math.min(fileData.byteLength - position, MAX_PAYLOAD_SIZE);\n",
              "      const chunk = new Uint8Array(fileData, position, length);\n",
              "      position += length;\n",
              "\n",
              "      const base64 = btoa(String.fromCharCode.apply(null, chunk));\n",
              "      yield {\n",
              "        response: {\n",
              "          action: 'append',\n",
              "          file: file.name,\n",
              "          data: base64,\n",
              "        },\n",
              "      };\n",
              "\n",
              "      let percentDone = fileData.byteLength === 0 ?\n",
              "          100 :\n",
              "          Math.round((position / fileData.byteLength) * 100);\n",
              "      percent.textContent = `${percentDone}% done`;\n",
              "\n",
              "    } while (position < fileData.byteLength);\n",
              "  }\n",
              "\n",
              "  // All done.\n",
              "  yield {\n",
              "    response: {\n",
              "      action: 'complete',\n",
              "    }\n",
              "  };\n",
              "}\n",
              "\n",
              "scope.google = scope.google || {};\n",
              "scope.google.colab = scope.google.colab || {};\n",
              "scope.google.colab._files = {\n",
              "  _uploadFiles,\n",
              "  _uploadFilesContinue,\n",
              "};\n",
              "})(self);\n",
              "</script> "
            ]
          },
          "metadata": {}
        },
        {
          "output_type": "stream",
          "name": "stdout",
          "text": [
            "Saving rust_crop.webp to rust_crop (4).webp\n"
          ]
        }
      ]
    },
    {
      "cell_type": "code",
      "source": [
        "state = \"Delhi\"\n",
        "image_dectector_response = image_llm_chain.run({\n",
        "    \"input\": base64_image_link,\n",
        "    \"state\": state\n",
        "})"
      ],
      "metadata": {
        "id": "g_yoY0ZafFts"
      },
      "execution_count": 125,
      "outputs": []
    },
    {
      "cell_type": "code",
      "source": [
        "print(\"AI Response:\\n\", image_dectector_response)"
      ],
      "metadata": {
        "colab": {
          "base_uri": "https://localhost:8080/"
        },
        "id": "5BO8mMMCeOp1",
        "outputId": "41bc92a4-e24d-445d-f7e4-13e5de60636c"
      },
      "execution_count": 126,
      "outputs": [
        {
          "output_type": "stream",
          "name": "stdout",
          "text": [
            "AI Response:\n",
            " Bhai, tumhari fasal ke patte pe 'interveinal chlorosis' ke symptoms hain. Matlab, patta peela ho raha hai par nasen (veins) hari hain. Lagta hai loha (iron) ya magnesium ki kami hai.\n",
            "\n",
            "**Karan:** Soil ka high pH ya nutrients ka imbalance ho sakta hai.\n",
            "\n",
            "**Solution:** Mitti ki jaanch karvao. Iron ya magnesium chelates ka foliar spray karo. Aur haan, drainage bhi sahi karo zameen ka.\n"
          ]
        }
      ]
    },
    {
      "cell_type": "markdown",
      "source": [
        "IMAGE ENCODING"
      ],
      "metadata": {
        "id": "m-N9r3owS-OJ"
      }
    }
  ]
}